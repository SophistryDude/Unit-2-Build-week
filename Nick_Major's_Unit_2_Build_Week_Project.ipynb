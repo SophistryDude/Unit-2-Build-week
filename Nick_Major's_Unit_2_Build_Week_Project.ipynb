{
  "nbformat": 4,
  "nbformat_minor": 0,
  "metadata": {
    "colab": {
      "name": "Nick Major's Unit 2 Build Week Project.ipynb",
      "provenance": [],
      "collapsed_sections": [],
      "toc_visible": true
    },
    "kernelspec": {
      "name": "python3",
      "display_name": "Python 3"
    }
  },
  "cells": [
    {
      "cell_type": "code",
      "metadata": {
        "id": "yl9_X9UCLKyD"
      },
      "source": [
        "%%capture\n",
        "import sys\n",
        "import pandas as pd\n",
        "import numpy as np\n",
        "import matplotlib.pyplot as plt\n",
        "from scipy import stats\n",
        "from numpy import linalg\n",
        "import math\n",
        "import statistics \n",
        "import random\n",
        "from sklearn.decomposition import PCA \n",
        "from sklearn.cluster import KMeans\n",
        "from sklearn.preprocessing import StandardScaler \n",
        "!pip install category_encoders==2.*\n",
        "df = pd.read_csv('https://raw.githubusercontent.com/SophistryDude/Unit-2-Build-week/main/games.csv')\n",
        "print(df.shape)\n",
        "df.info()"
      ],
      "execution_count": 135,
      "outputs": []
    },
    {
      "cell_type": "markdown",
      "metadata": {
        "id": "18ig8B_10K0q"
      },
      "source": [
        "#Data Wrangling\n",
        "\n",
        "This dataset was taken from the popular chess website, Lichess. It holds information on the players, as well as metadata such as opening name. I would like to look at a few targets:\n",
        "1. The amount of turns it takes to win, using the time increment and disparity in player ratings as feature engineers. \n",
        "2. the type of game based on ratings\n",
        "3. the win rate of ratings\n",
        "\n",
        "For this I'm going to separate my data a bit, and also create some new features. "
      ]
    },
    {
      "cell_type": "code",
      "metadata": {
        "id": "o8ckqA8ZvLFe",
        "outputId": "8adfc84c-a035-4185-a846-f15a6059c23f",
        "colab": {
          "base_uri": "https://localhost:8080/",
          "height": 221
        }
      },
      "source": [
        "#I'll store my move list just in case, but I doubt i will use it. I may use the openings later to present my data to potential clients. \n",
        "original = df.copy()\n",
        "moves = {'ID':original['id'], 'Moves':original['moves']}\n",
        "opening = {'opening_eco':original['opening_eco'], 'Opening_name':original['opening_name']}\n",
        "df = df.drop(columns=['id', 'rated', 'created_at', 'last_move_at', 'victory_status', 'white_id', 'black_id', 'moves', 'opening_ply','opening_name'])\n",
        "print(df.shape)\n",
        "df.head()\n"
      ],
      "execution_count": 136,
      "outputs": [
        {
          "output_type": "stream",
          "text": [
            "(20058, 6)\n"
          ],
          "name": "stdout"
        },
        {
          "output_type": "execute_result",
          "data": {
            "text/html": [
              "<div>\n",
              "<style scoped>\n",
              "    .dataframe tbody tr th:only-of-type {\n",
              "        vertical-align: middle;\n",
              "    }\n",
              "\n",
              "    .dataframe tbody tr th {\n",
              "        vertical-align: top;\n",
              "    }\n",
              "\n",
              "    .dataframe thead th {\n",
              "        text-align: right;\n",
              "    }\n",
              "</style>\n",
              "<table border=\"1\" class=\"dataframe\">\n",
              "  <thead>\n",
              "    <tr style=\"text-align: right;\">\n",
              "      <th></th>\n",
              "      <th>turns</th>\n",
              "      <th>winner</th>\n",
              "      <th>increment_code</th>\n",
              "      <th>white_rating</th>\n",
              "      <th>black_rating</th>\n",
              "      <th>opening_eco</th>\n",
              "    </tr>\n",
              "  </thead>\n",
              "  <tbody>\n",
              "    <tr>\n",
              "      <th>0</th>\n",
              "      <td>13</td>\n",
              "      <td>white</td>\n",
              "      <td>15+2</td>\n",
              "      <td>1500</td>\n",
              "      <td>1191</td>\n",
              "      <td>D10</td>\n",
              "    </tr>\n",
              "    <tr>\n",
              "      <th>1</th>\n",
              "      <td>16</td>\n",
              "      <td>black</td>\n",
              "      <td>5+10</td>\n",
              "      <td>1322</td>\n",
              "      <td>1261</td>\n",
              "      <td>B00</td>\n",
              "    </tr>\n",
              "    <tr>\n",
              "      <th>2</th>\n",
              "      <td>61</td>\n",
              "      <td>white</td>\n",
              "      <td>5+10</td>\n",
              "      <td>1496</td>\n",
              "      <td>1500</td>\n",
              "      <td>C20</td>\n",
              "    </tr>\n",
              "    <tr>\n",
              "      <th>3</th>\n",
              "      <td>61</td>\n",
              "      <td>white</td>\n",
              "      <td>20+0</td>\n",
              "      <td>1439</td>\n",
              "      <td>1454</td>\n",
              "      <td>D02</td>\n",
              "    </tr>\n",
              "    <tr>\n",
              "      <th>4</th>\n",
              "      <td>95</td>\n",
              "      <td>white</td>\n",
              "      <td>30+3</td>\n",
              "      <td>1523</td>\n",
              "      <td>1469</td>\n",
              "      <td>C41</td>\n",
              "    </tr>\n",
              "  </tbody>\n",
              "</table>\n",
              "</div>"
            ],
            "text/plain": [
              "   turns winner increment_code  white_rating  black_rating opening_eco\n",
              "0     13  white           15+2          1500          1191         D10\n",
              "1     16  black           5+10          1322          1261         B00\n",
              "2     61  white           5+10          1496          1500         C20\n",
              "3     61  white           20+0          1439          1454         D02\n",
              "4     95  white           30+3          1523          1469         C41"
            ]
          },
          "metadata": {
            "tags": []
          },
          "execution_count": 136
        }
      ]
    },
    {
      "cell_type": "code",
      "metadata": {
        "id": "Ix1A8zJ1f94C",
        "outputId": "4123e63b-de75-4207-c34e-b459b346aacf",
        "colab": {
          "base_uri": "https://localhost:8080/",
          "height": 102
        }
      },
      "source": [
        "# as shown above, there are approximely 20,000 games in this database, let's get some initial analysis of the data\n",
        "df.groupby('winner').size()\n"
      ],
      "execution_count": 137,
      "outputs": [
        {
          "output_type": "execute_result",
          "data": {
            "text/plain": [
              "winner\n",
              "black     9107\n",
              "draw       950\n",
              "white    10001\n",
              "dtype: int64"
            ]
          },
          "metadata": {
            "tags": []
          },
          "execution_count": 137
        }
      ]
    },
    {
      "cell_type": "code",
      "metadata": {
        "id": "ahrrf23QMTQ3",
        "outputId": "0d518025-994c-43ec-d43c-fa8038bcdda1",
        "colab": {
          "base_uri": "https://localhost:8080/",
          "height": 204
        }
      },
      "source": [
        "# Our winner category has 3 entries, in order to analyze the opening success rates we need to wrangle our data a little bit more. I'm going make a separate DF to assess \n",
        "#the success rate of each opening.\n",
        "df2 = df.copy()\n",
        "df2['White Wins'], df2['Black Wins'], df2['Draw'] = (df2['winner'] == 'white'), (df2['winner'] == 'black'), (df2['winner'] == 'draw')\n",
        "df2[['White Wins']], df2[['Black Wins']], df2['Draw'] = df2[['White Wins']].astype(int), df2['Black Wins'].astype(int), df2['Draw'].astype(int)\n",
        "df2.head()\n"
      ],
      "execution_count": 138,
      "outputs": [
        {
          "output_type": "execute_result",
          "data": {
            "text/html": [
              "<div>\n",
              "<style scoped>\n",
              "    .dataframe tbody tr th:only-of-type {\n",
              "        vertical-align: middle;\n",
              "    }\n",
              "\n",
              "    .dataframe tbody tr th {\n",
              "        vertical-align: top;\n",
              "    }\n",
              "\n",
              "    .dataframe thead th {\n",
              "        text-align: right;\n",
              "    }\n",
              "</style>\n",
              "<table border=\"1\" class=\"dataframe\">\n",
              "  <thead>\n",
              "    <tr style=\"text-align: right;\">\n",
              "      <th></th>\n",
              "      <th>turns</th>\n",
              "      <th>winner</th>\n",
              "      <th>increment_code</th>\n",
              "      <th>white_rating</th>\n",
              "      <th>black_rating</th>\n",
              "      <th>opening_eco</th>\n",
              "      <th>White Wins</th>\n",
              "      <th>Black Wins</th>\n",
              "      <th>Draw</th>\n",
              "    </tr>\n",
              "  </thead>\n",
              "  <tbody>\n",
              "    <tr>\n",
              "      <th>0</th>\n",
              "      <td>13</td>\n",
              "      <td>white</td>\n",
              "      <td>15+2</td>\n",
              "      <td>1500</td>\n",
              "      <td>1191</td>\n",
              "      <td>D10</td>\n",
              "      <td>1</td>\n",
              "      <td>0</td>\n",
              "      <td>0</td>\n",
              "    </tr>\n",
              "    <tr>\n",
              "      <th>1</th>\n",
              "      <td>16</td>\n",
              "      <td>black</td>\n",
              "      <td>5+10</td>\n",
              "      <td>1322</td>\n",
              "      <td>1261</td>\n",
              "      <td>B00</td>\n",
              "      <td>0</td>\n",
              "      <td>1</td>\n",
              "      <td>0</td>\n",
              "    </tr>\n",
              "    <tr>\n",
              "      <th>2</th>\n",
              "      <td>61</td>\n",
              "      <td>white</td>\n",
              "      <td>5+10</td>\n",
              "      <td>1496</td>\n",
              "      <td>1500</td>\n",
              "      <td>C20</td>\n",
              "      <td>1</td>\n",
              "      <td>0</td>\n",
              "      <td>0</td>\n",
              "    </tr>\n",
              "    <tr>\n",
              "      <th>3</th>\n",
              "      <td>61</td>\n",
              "      <td>white</td>\n",
              "      <td>20+0</td>\n",
              "      <td>1439</td>\n",
              "      <td>1454</td>\n",
              "      <td>D02</td>\n",
              "      <td>1</td>\n",
              "      <td>0</td>\n",
              "      <td>0</td>\n",
              "    </tr>\n",
              "    <tr>\n",
              "      <th>4</th>\n",
              "      <td>95</td>\n",
              "      <td>white</td>\n",
              "      <td>30+3</td>\n",
              "      <td>1523</td>\n",
              "      <td>1469</td>\n",
              "      <td>C41</td>\n",
              "      <td>1</td>\n",
              "      <td>0</td>\n",
              "      <td>0</td>\n",
              "    </tr>\n",
              "  </tbody>\n",
              "</table>\n",
              "</div>"
            ],
            "text/plain": [
              "   turns winner increment_code  ...  White Wins  Black Wins Draw\n",
              "0     13  white           15+2  ...           1           0    0\n",
              "1     16  black           5+10  ...           0           1    0\n",
              "2     61  white           5+10  ...           1           0    0\n",
              "3     61  white           20+0  ...           1           0    0\n",
              "4     95  white           30+3  ...           1           0    0\n",
              "\n",
              "[5 rows x 9 columns]"
            ]
          },
          "metadata": {
            "tags": []
          },
          "execution_count": 138
        }
      ]
    },
    {
      "cell_type": "code",
      "metadata": {
        "id": "ck_dIznRfj9f",
        "outputId": "a858a7db-bd6e-4d36-99d3-e314b858967d",
        "colab": {
          "base_uri": "https://localhost:8080/",
          "height": 235
        }
      },
      "source": [
        "#Now we go back to a DF with our openings set as the index, and 4 new features. Additionally, this dataframe is now sorted by most popular \n",
        "info = df2.groupby(['opening_eco']).sum()\n",
        "info = info.drop(columns=['white_rating', 'black_rating', 'turns'])\n",
        "info['TGP'] = info['White Wins'] + info['Black Wins'] + info['Draw']\n",
        "info = info.sort_values(by=['TGP'], ascending=False)\n",
        "info.head()"
      ],
      "execution_count": 139,
      "outputs": [
        {
          "output_type": "execute_result",
          "data": {
            "text/html": [
              "<div>\n",
              "<style scoped>\n",
              "    .dataframe tbody tr th:only-of-type {\n",
              "        vertical-align: middle;\n",
              "    }\n",
              "\n",
              "    .dataframe tbody tr th {\n",
              "        vertical-align: top;\n",
              "    }\n",
              "\n",
              "    .dataframe thead th {\n",
              "        text-align: right;\n",
              "    }\n",
              "</style>\n",
              "<table border=\"1\" class=\"dataframe\">\n",
              "  <thead>\n",
              "    <tr style=\"text-align: right;\">\n",
              "      <th></th>\n",
              "      <th>White Wins</th>\n",
              "      <th>Black Wins</th>\n",
              "      <th>Draw</th>\n",
              "      <th>TGP</th>\n",
              "    </tr>\n",
              "    <tr>\n",
              "      <th>opening_eco</th>\n",
              "      <th></th>\n",
              "      <th></th>\n",
              "      <th></th>\n",
              "      <th></th>\n",
              "    </tr>\n",
              "  </thead>\n",
              "  <tbody>\n",
              "    <tr>\n",
              "      <th>A00</th>\n",
              "      <td>398</td>\n",
              "      <td>570</td>\n",
              "      <td>39</td>\n",
              "      <td>1007</td>\n",
              "    </tr>\n",
              "    <tr>\n",
              "      <th>C00</th>\n",
              "      <td>417</td>\n",
              "      <td>389</td>\n",
              "      <td>38</td>\n",
              "      <td>844</td>\n",
              "    </tr>\n",
              "    <tr>\n",
              "      <th>D00</th>\n",
              "      <td>341</td>\n",
              "      <td>360</td>\n",
              "      <td>38</td>\n",
              "      <td>739</td>\n",
              "    </tr>\n",
              "    <tr>\n",
              "      <th>B01</th>\n",
              "      <td>358</td>\n",
              "      <td>332</td>\n",
              "      <td>26</td>\n",
              "      <td>716</td>\n",
              "    </tr>\n",
              "    <tr>\n",
              "      <th>C41</th>\n",
              "      <td>396</td>\n",
              "      <td>267</td>\n",
              "      <td>28</td>\n",
              "      <td>691</td>\n",
              "    </tr>\n",
              "  </tbody>\n",
              "</table>\n",
              "</div>"
            ],
            "text/plain": [
              "             White Wins  Black Wins  Draw   TGP\n",
              "opening_eco                                    \n",
              "A00                 398         570    39  1007\n",
              "C00                 417         389    38   844\n",
              "D00                 341         360    38   739\n",
              "B01                 358         332    26   716\n",
              "C41                 396         267    28   691"
            ]
          },
          "metadata": {
            "tags": []
          },
          "execution_count": 139
        }
      ]
    },
    {
      "cell_type": "code",
      "metadata": {
        "id": "sF1tPKdlqBXA",
        "outputId": "ad387988-169f-4b00-84e7-510c02da6ac6",
        "colab": {
          "base_uri": "https://localhost:8080/",
          "height": 235
        }
      },
      "source": [
        "# in order to test for things such as variance on each opening, we need to convert the games played in aggregate to a percentage of games with noted outcome. \n",
        "stat = info.copy()\n",
        "stat['White Wins'] = info['White Wins'] / info['TGP']\n",
        "stat['Black Wins'] = info['Black Wins'] / info['TGP']\n",
        "stat['Draw'] = info['Draw'] / info['TGP']\n",
        "\n",
        "stat.head()"
      ],
      "execution_count": 140,
      "outputs": [
        {
          "output_type": "execute_result",
          "data": {
            "text/html": [
              "<div>\n",
              "<style scoped>\n",
              "    .dataframe tbody tr th:only-of-type {\n",
              "        vertical-align: middle;\n",
              "    }\n",
              "\n",
              "    .dataframe tbody tr th {\n",
              "        vertical-align: top;\n",
              "    }\n",
              "\n",
              "    .dataframe thead th {\n",
              "        text-align: right;\n",
              "    }\n",
              "</style>\n",
              "<table border=\"1\" class=\"dataframe\">\n",
              "  <thead>\n",
              "    <tr style=\"text-align: right;\">\n",
              "      <th></th>\n",
              "      <th>White Wins</th>\n",
              "      <th>Black Wins</th>\n",
              "      <th>Draw</th>\n",
              "      <th>TGP</th>\n",
              "    </tr>\n",
              "    <tr>\n",
              "      <th>opening_eco</th>\n",
              "      <th></th>\n",
              "      <th></th>\n",
              "      <th></th>\n",
              "      <th></th>\n",
              "    </tr>\n",
              "  </thead>\n",
              "  <tbody>\n",
              "    <tr>\n",
              "      <th>A00</th>\n",
              "      <td>0.395233</td>\n",
              "      <td>0.566038</td>\n",
              "      <td>0.038729</td>\n",
              "      <td>1007</td>\n",
              "    </tr>\n",
              "    <tr>\n",
              "      <th>C00</th>\n",
              "      <td>0.494076</td>\n",
              "      <td>0.460900</td>\n",
              "      <td>0.045024</td>\n",
              "      <td>844</td>\n",
              "    </tr>\n",
              "    <tr>\n",
              "      <th>D00</th>\n",
              "      <td>0.461434</td>\n",
              "      <td>0.487145</td>\n",
              "      <td>0.051421</td>\n",
              "      <td>739</td>\n",
              "    </tr>\n",
              "    <tr>\n",
              "      <th>B01</th>\n",
              "      <td>0.500000</td>\n",
              "      <td>0.463687</td>\n",
              "      <td>0.036313</td>\n",
              "      <td>716</td>\n",
              "    </tr>\n",
              "    <tr>\n",
              "      <th>C41</th>\n",
              "      <td>0.573082</td>\n",
              "      <td>0.386397</td>\n",
              "      <td>0.040521</td>\n",
              "      <td>691</td>\n",
              "    </tr>\n",
              "  </tbody>\n",
              "</table>\n",
              "</div>"
            ],
            "text/plain": [
              "             White Wins  Black Wins      Draw   TGP\n",
              "opening_eco                                        \n",
              "A00            0.395233    0.566038  0.038729  1007\n",
              "C00            0.494076    0.460900  0.045024   844\n",
              "D00            0.461434    0.487145  0.051421   739\n",
              "B01            0.500000    0.463687  0.036313   716\n",
              "C41            0.573082    0.386397  0.040521   691"
            ]
          },
          "metadata": {
            "tags": []
          },
          "execution_count": 140
        }
      ]
    },
    {
      "cell_type": "markdown",
      "metadata": {
        "id": "BTT7ydc4FsWB"
      },
      "source": [
        "#Putting the name back\n",
        "\n",
        "Because the naming scheme for chess moves has such a high cardinality rate, I'm not going to use them in the dataframe for my models. That being said, it is nice to know what the codes actually refer to. "
      ]
    },
    {
      "cell_type": "code",
      "metadata": {
        "id": "dw9N5rFW77vY",
        "outputId": "a7d5aa23-c34b-4b2c-8478-914e156fa6d6",
        "colab": {
          "base_uri": "https://localhost:8080/",
          "height": 235
        }
      },
      "source": [
        "names = pd.DataFrame(opening)\n",
        "names = names.groupby(['opening_eco']).sum()\n",
        "names.head()"
      ],
      "execution_count": 141,
      "outputs": [
        {
          "output_type": "execute_result",
          "data": {
            "text/html": [
              "<div>\n",
              "<style scoped>\n",
              "    .dataframe tbody tr th:only-of-type {\n",
              "        vertical-align: middle;\n",
              "    }\n",
              "\n",
              "    .dataframe tbody tr th {\n",
              "        vertical-align: top;\n",
              "    }\n",
              "\n",
              "    .dataframe thead th {\n",
              "        text-align: right;\n",
              "    }\n",
              "</style>\n",
              "<table border=\"1\" class=\"dataframe\">\n",
              "  <thead>\n",
              "    <tr style=\"text-align: right;\">\n",
              "      <th></th>\n",
              "      <th>Opening_name</th>\n",
              "    </tr>\n",
              "    <tr>\n",
              "      <th>opening_eco</th>\n",
              "      <th></th>\n",
              "    </tr>\n",
              "  </thead>\n",
              "  <tbody>\n",
              "    <tr>\n",
              "      <th>A00</th>\n",
              "      <td>Van't Kruijs OpeningCrab OpeningHungarian Open...</td>\n",
              "    </tr>\n",
              "    <tr>\n",
              "      <th>A01</th>\n",
              "      <td>Nimzo-Larsen Attack: Modern VariationNimzo-Lar...</td>\n",
              "    </tr>\n",
              "    <tr>\n",
              "      <th>A02</th>\n",
              "      <td>Bird OpeningBird OpeningBird OpeningBird Openi...</td>\n",
              "    </tr>\n",
              "    <tr>\n",
              "      <th>A03</th>\n",
              "      <td>Bird OpeningBird Opening: Dutch VariationBird ...</td>\n",
              "    </tr>\n",
              "    <tr>\n",
              "      <th>A04</th>\n",
              "      <td>Zukertort Opening: Ross GambitZukertort Openin...</td>\n",
              "    </tr>\n",
              "  </tbody>\n",
              "</table>\n",
              "</div>"
            ],
            "text/plain": [
              "                                                  Opening_name\n",
              "opening_eco                                                   \n",
              "A00          Van't Kruijs OpeningCrab OpeningHungarian Open...\n",
              "A01          Nimzo-Larsen Attack: Modern VariationNimzo-Lar...\n",
              "A02          Bird OpeningBird OpeningBird OpeningBird Openi...\n",
              "A03          Bird OpeningBird Opening: Dutch VariationBird ...\n",
              "A04          Zukertort Opening: Ross GambitZukertort Openin..."
            ]
          },
          "metadata": {
            "tags": []
          },
          "execution_count": 141
        }
      ]
    },
    {
      "cell_type": "code",
      "metadata": {
        "id": "68cQeOdQGBzq",
        "outputId": "b55919de-89fb-443e-abb7-eb17e01bf2eb",
        "colab": {
          "base_uri": "https://localhost:8080/",
          "height": 235
        }
      },
      "source": [
        "names = pd.merge(names, info, on='opening_eco', how='inner')\n",
        "names.head()"
      ],
      "execution_count": 142,
      "outputs": [
        {
          "output_type": "execute_result",
          "data": {
            "text/html": [
              "<div>\n",
              "<style scoped>\n",
              "    .dataframe tbody tr th:only-of-type {\n",
              "        vertical-align: middle;\n",
              "    }\n",
              "\n",
              "    .dataframe tbody tr th {\n",
              "        vertical-align: top;\n",
              "    }\n",
              "\n",
              "    .dataframe thead th {\n",
              "        text-align: right;\n",
              "    }\n",
              "</style>\n",
              "<table border=\"1\" class=\"dataframe\">\n",
              "  <thead>\n",
              "    <tr style=\"text-align: right;\">\n",
              "      <th></th>\n",
              "      <th>Opening_name</th>\n",
              "      <th>White Wins</th>\n",
              "      <th>Black Wins</th>\n",
              "      <th>Draw</th>\n",
              "      <th>TGP</th>\n",
              "    </tr>\n",
              "    <tr>\n",
              "      <th>opening_eco</th>\n",
              "      <th></th>\n",
              "      <th></th>\n",
              "      <th></th>\n",
              "      <th></th>\n",
              "      <th></th>\n",
              "    </tr>\n",
              "  </thead>\n",
              "  <tbody>\n",
              "    <tr>\n",
              "      <th>A00</th>\n",
              "      <td>Van't Kruijs OpeningCrab OpeningHungarian Open...</td>\n",
              "      <td>398</td>\n",
              "      <td>570</td>\n",
              "      <td>39</td>\n",
              "      <td>1007</td>\n",
              "    </tr>\n",
              "    <tr>\n",
              "      <th>A01</th>\n",
              "      <td>Nimzo-Larsen Attack: Modern VariationNimzo-Lar...</td>\n",
              "      <td>76</td>\n",
              "      <td>80</td>\n",
              "      <td>8</td>\n",
              "      <td>164</td>\n",
              "    </tr>\n",
              "    <tr>\n",
              "      <th>A02</th>\n",
              "      <td>Bird OpeningBird OpeningBird OpeningBird Openi...</td>\n",
              "      <td>32</td>\n",
              "      <td>45</td>\n",
              "      <td>5</td>\n",
              "      <td>82</td>\n",
              "    </tr>\n",
              "    <tr>\n",
              "      <th>A03</th>\n",
              "      <td>Bird OpeningBird Opening: Dutch VariationBird ...</td>\n",
              "      <td>30</td>\n",
              "      <td>38</td>\n",
              "      <td>10</td>\n",
              "      <td>78</td>\n",
              "    </tr>\n",
              "    <tr>\n",
              "      <th>A04</th>\n",
              "      <td>Zukertort Opening: Ross GambitZukertort Openin...</td>\n",
              "      <td>156</td>\n",
              "      <td>101</td>\n",
              "      <td>28</td>\n",
              "      <td>285</td>\n",
              "    </tr>\n",
              "  </tbody>\n",
              "</table>\n",
              "</div>"
            ],
            "text/plain": [
              "                                                  Opening_name  ...   TGP\n",
              "opening_eco                                                     ...      \n",
              "A00          Van't Kruijs OpeningCrab OpeningHungarian Open...  ...  1007\n",
              "A01          Nimzo-Larsen Attack: Modern VariationNimzo-Lar...  ...   164\n",
              "A02          Bird OpeningBird OpeningBird OpeningBird Openi...  ...    82\n",
              "A03          Bird OpeningBird Opening: Dutch VariationBird ...  ...    78\n",
              "A04          Zukertort Opening: Ross GambitZukertort Openin...  ...   285\n",
              "\n",
              "[5 rows x 5 columns]"
            ]
          },
          "metadata": {
            "tags": []
          },
          "execution_count": 142
        }
      ]
    },
    {
      "cell_type": "code",
      "metadata": {
        "id": "6x4CdLe4GY4l",
        "outputId": "596c937c-6151-44ab-8e13-011ce636a790",
        "colab": {
          "base_uri": "https://localhost:8080/",
          "height": 235
        }
      },
      "source": [
        "names = names.groupby(['opening_eco']).sum()\n",
        "names['TGP'] = names['White Wins'] + names['Black Wins'] + names['Draw']\n",
        "names= names.sort_values(by=['TGP'], ascending=False)\n",
        "names.head()"
      ],
      "execution_count": 143,
      "outputs": [
        {
          "output_type": "execute_result",
          "data": {
            "text/html": [
              "<div>\n",
              "<style scoped>\n",
              "    .dataframe tbody tr th:only-of-type {\n",
              "        vertical-align: middle;\n",
              "    }\n",
              "\n",
              "    .dataframe tbody tr th {\n",
              "        vertical-align: top;\n",
              "    }\n",
              "\n",
              "    .dataframe thead th {\n",
              "        text-align: right;\n",
              "    }\n",
              "</style>\n",
              "<table border=\"1\" class=\"dataframe\">\n",
              "  <thead>\n",
              "    <tr style=\"text-align: right;\">\n",
              "      <th></th>\n",
              "      <th>White Wins</th>\n",
              "      <th>Black Wins</th>\n",
              "      <th>Draw</th>\n",
              "      <th>TGP</th>\n",
              "    </tr>\n",
              "    <tr>\n",
              "      <th>opening_eco</th>\n",
              "      <th></th>\n",
              "      <th></th>\n",
              "      <th></th>\n",
              "      <th></th>\n",
              "    </tr>\n",
              "  </thead>\n",
              "  <tbody>\n",
              "    <tr>\n",
              "      <th>A00</th>\n",
              "      <td>398</td>\n",
              "      <td>570</td>\n",
              "      <td>39</td>\n",
              "      <td>1007</td>\n",
              "    </tr>\n",
              "    <tr>\n",
              "      <th>C00</th>\n",
              "      <td>417</td>\n",
              "      <td>389</td>\n",
              "      <td>38</td>\n",
              "      <td>844</td>\n",
              "    </tr>\n",
              "    <tr>\n",
              "      <th>D00</th>\n",
              "      <td>341</td>\n",
              "      <td>360</td>\n",
              "      <td>38</td>\n",
              "      <td>739</td>\n",
              "    </tr>\n",
              "    <tr>\n",
              "      <th>B01</th>\n",
              "      <td>358</td>\n",
              "      <td>332</td>\n",
              "      <td>26</td>\n",
              "      <td>716</td>\n",
              "    </tr>\n",
              "    <tr>\n",
              "      <th>C41</th>\n",
              "      <td>396</td>\n",
              "      <td>267</td>\n",
              "      <td>28</td>\n",
              "      <td>691</td>\n",
              "    </tr>\n",
              "  </tbody>\n",
              "</table>\n",
              "</div>"
            ],
            "text/plain": [
              "             White Wins  Black Wins  Draw   TGP\n",
              "opening_eco                                    \n",
              "A00                 398         570    39  1007\n",
              "C00                 417         389    38   844\n",
              "D00                 341         360    38   739\n",
              "B01                 358         332    26   716\n",
              "C41                 396         267    28   691"
            ]
          },
          "metadata": {
            "tags": []
          },
          "execution_count": 143
        }
      ]
    },
    {
      "cell_type": "markdown",
      "metadata": {
        "id": "uDf-R4tCvGhD"
      },
      "source": [
        "#Variance experiment"
      ]
    },
    {
      "cell_type": "code",
      "metadata": {
        "id": "Vgo-0gM0qqby",
        "outputId": "c0490afb-b7b7-4908-cdb8-d079b0d424c3",
        "colab": {
          "base_uri": "https://localhost:8080/",
          "height": 371
        }
      },
      "source": [
        "variance_info = info.copy()\n",
        "mean_white = variance_info['White Wins'].mean()\n",
        "mean_black = variance_info['Black Wins'].mean()\n",
        "mean_draw = variance_info['Draw'].mean()\n",
        "variance_info['WWRVar'] = variance_info['White Wins'] - mean_white\n",
        "variance_info['BWRVar'] = variance_info['Black Wins'] - mean_black\n",
        "variance_info['DRVar'] = variance_info['Draw'] - mean_draw\n",
        "white_std_dev = np.std(variance_info['White Wins'], ddof=1)\n",
        "black_std_dev = np.std(variance_info['Black Wins'], ddof=1)\n",
        "print('Mean WWR:', mean_white)\n",
        "print('Mean BWR:', mean_black)\n",
        "print('Mean Draw:', mean_draw)\n",
        "print('WWRVar:', variance_info['White Wins'].var())\n",
        "print('BWRVar:', variance_info['Black Wins'].var())\n",
        "print('DrawVar:', variance_info['Draw'].var())\n",
        "print('White std dev:', white_std_dev)\n",
        "print('Black std dev:', black_std_dev)\n",
        "variance_info.head()"
      ],
      "execution_count": 144,
      "outputs": [
        {
          "output_type": "stream",
          "text": [
            "Mean WWR: 27.4\n",
            "Mean BWR: 24.95068493150685\n",
            "Mean Draw: 2.6027397260273974\n",
            "WWRVar: 4050.2461538461553\n",
            "BWRVar: 3799.014044859233\n",
            "DrawVar: 32.65219027547816\n",
            "White std dev: 63.64154424466895\n",
            "Black std dev: 61.6361423586781\n"
          ],
          "name": "stdout"
        },
        {
          "output_type": "execute_result",
          "data": {
            "text/html": [
              "<div>\n",
              "<style scoped>\n",
              "    .dataframe tbody tr th:only-of-type {\n",
              "        vertical-align: middle;\n",
              "    }\n",
              "\n",
              "    .dataframe tbody tr th {\n",
              "        vertical-align: top;\n",
              "    }\n",
              "\n",
              "    .dataframe thead th {\n",
              "        text-align: right;\n",
              "    }\n",
              "</style>\n",
              "<table border=\"1\" class=\"dataframe\">\n",
              "  <thead>\n",
              "    <tr style=\"text-align: right;\">\n",
              "      <th></th>\n",
              "      <th>White Wins</th>\n",
              "      <th>Black Wins</th>\n",
              "      <th>Draw</th>\n",
              "      <th>TGP</th>\n",
              "      <th>WWRVar</th>\n",
              "      <th>BWRVar</th>\n",
              "      <th>DRVar</th>\n",
              "    </tr>\n",
              "    <tr>\n",
              "      <th>opening_eco</th>\n",
              "      <th></th>\n",
              "      <th></th>\n",
              "      <th></th>\n",
              "      <th></th>\n",
              "      <th></th>\n",
              "      <th></th>\n",
              "      <th></th>\n",
              "    </tr>\n",
              "  </thead>\n",
              "  <tbody>\n",
              "    <tr>\n",
              "      <th>A00</th>\n",
              "      <td>398</td>\n",
              "      <td>570</td>\n",
              "      <td>39</td>\n",
              "      <td>1007</td>\n",
              "      <td>370.6</td>\n",
              "      <td>545.049315</td>\n",
              "      <td>36.39726</td>\n",
              "    </tr>\n",
              "    <tr>\n",
              "      <th>C00</th>\n",
              "      <td>417</td>\n",
              "      <td>389</td>\n",
              "      <td>38</td>\n",
              "      <td>844</td>\n",
              "      <td>389.6</td>\n",
              "      <td>364.049315</td>\n",
              "      <td>35.39726</td>\n",
              "    </tr>\n",
              "    <tr>\n",
              "      <th>D00</th>\n",
              "      <td>341</td>\n",
              "      <td>360</td>\n",
              "      <td>38</td>\n",
              "      <td>739</td>\n",
              "      <td>313.6</td>\n",
              "      <td>335.049315</td>\n",
              "      <td>35.39726</td>\n",
              "    </tr>\n",
              "    <tr>\n",
              "      <th>B01</th>\n",
              "      <td>358</td>\n",
              "      <td>332</td>\n",
              "      <td>26</td>\n",
              "      <td>716</td>\n",
              "      <td>330.6</td>\n",
              "      <td>307.049315</td>\n",
              "      <td>23.39726</td>\n",
              "    </tr>\n",
              "    <tr>\n",
              "      <th>C41</th>\n",
              "      <td>396</td>\n",
              "      <td>267</td>\n",
              "      <td>28</td>\n",
              "      <td>691</td>\n",
              "      <td>368.6</td>\n",
              "      <td>242.049315</td>\n",
              "      <td>25.39726</td>\n",
              "    </tr>\n",
              "  </tbody>\n",
              "</table>\n",
              "</div>"
            ],
            "text/plain": [
              "             White Wins  Black Wins  Draw   TGP  WWRVar      BWRVar     DRVar\n",
              "opening_eco                                                                  \n",
              "A00                 398         570    39  1007   370.6  545.049315  36.39726\n",
              "C00                 417         389    38   844   389.6  364.049315  35.39726\n",
              "D00                 341         360    38   739   313.6  335.049315  35.39726\n",
              "B01                 358         332    26   716   330.6  307.049315  23.39726\n",
              "C41                 396         267    28   691   368.6  242.049315  25.39726"
            ]
          },
          "metadata": {
            "tags": []
          },
          "execution_count": 144
        }
      ]
    },
    {
      "cell_type": "code",
      "metadata": {
        "id": "rrP7nbs1tanJ",
        "outputId": "8ddac620-a93c-4c6a-8cfb-2c3b92968497",
        "colab": {
          "base_uri": "https://localhost:8080/",
          "height": 51
        }
      },
      "source": [
        "observations = len(info)\n",
        "white_obs = variance_info['WWRVar']**2\n",
        "white_obs = white_obs.sum()/(observations-1)\n",
        "black_obs = variance_info['BWRVar']**2\n",
        "black_obs = black_obs.sum()/(observations-1)\n",
        "print('W:', white_obs)\n",
        "print('B:', black_obs)"
      ],
      "execution_count": 145,
      "outputs": [
        {
          "output_type": "stream",
          "text": [
            "W: 4050.246153846154\n",
            "B: 3799.014044859251\n"
          ],
          "name": "stdout"
        }
      ]
    },
    {
      "cell_type": "markdown",
      "metadata": {
        "id": "L0I0tAPuP58i"
      },
      "source": [
        "#Rating bins"
      ]
    },
    {
      "cell_type": "code",
      "metadata": {
        "id": "G7QUhyuYP3dt",
        "outputId": "ac84b754-4d0d-4ea5-9b99-ca083ea2c853",
        "colab": {
          "base_uri": "https://localhost:8080/",
          "height": 170
        }
      },
      "source": [
        "df2['white_rating'].describe()"
      ],
      "execution_count": 146,
      "outputs": [
        {
          "output_type": "execute_result",
          "data": {
            "text/plain": [
              "count    20058.000000\n",
              "mean      1596.631868\n",
              "std        291.253376\n",
              "min        784.000000\n",
              "25%       1398.000000\n",
              "50%       1567.000000\n",
              "75%       1793.000000\n",
              "max       2700.000000\n",
              "Name: white_rating, dtype: float64"
            ]
          },
          "metadata": {
            "tags": []
          },
          "execution_count": 146
        }
      ]
    },
    {
      "cell_type": "code",
      "metadata": {
        "id": "EeiCToye6zhw",
        "outputId": "add0d6ee-6556-4b5f-e9f3-4ba440699ca2",
        "colab": {
          "base_uri": "https://localhost:8080/",
          "height": 295
        }
      },
      "source": [
        "import scipy.stats\n",
        "mean = 1596.631868\n",
        "std = 291.253376\n",
        "x_values = np.arange(0, 3000, 100)\n",
        "y_values = scipy.stats.norm(mean, std)\n",
        "plt.plot(x_values, y_values.pdf(x_values))\n",
        "plt.title('Player Distribution Curve', color='white')\n",
        "plt.xlabel('Rating level', color='white')\n",
        "plt.show()"
      ],
      "execution_count": 147,
      "outputs": [
        {
          "output_type": "display_data",
          "data": {
            "image/png": "[encoded data removed]",
            "text/plain": [
              "<Figure size 432x288 with 1 Axes>"
            ]
          },
          "metadata": {
            "tags": [],
            "needs_background": "light"
          }
        }
      ]
    },
    {
      "cell_type": "code",
      "metadata": {
        "id": "h8RtILEMP43d"
      },
      "source": [
        "ranking = df2.copy()\n",
        "cut_troll_labels = ['Wood_5', 'Bronze', 'Silver', 'Gold', 'Platinum', 'Diamond', 'CM', 'FM', 'IM', 'GM', 'Super GM']\n",
        "cut_bins = [0, 800, 1200, 1400, 1600, 1800, 2000, 2200, 2400, 2600, 2800, 4000]\n",
        "ranking['ranking'] = pd.cut(ranking['white_rating'], bins=cut_bins, labels=cut_troll_labels)"
      ],
      "execution_count": 148,
      "outputs": []
    },
    {
      "cell_type": "code",
      "metadata": {
        "id": "3oer3mag7Y7m",
        "outputId": "d3067892-3d8f-4376-d123-a1d7c634796e",
        "colab": {
          "base_uri": "https://localhost:8080/",
          "height": 204
        }
      },
      "source": [
        "ranking.head()"
      ],
      "execution_count": 149,
      "outputs": [
        {
          "output_type": "execute_result",
          "data": {
            "text/html": [
              "<div>\n",
              "<style scoped>\n",
              "    .dataframe tbody tr th:only-of-type {\n",
              "        vertical-align: middle;\n",
              "    }\n",
              "\n",
              "    .dataframe tbody tr th {\n",
              "        vertical-align: top;\n",
              "    }\n",
              "\n",
              "    .dataframe thead th {\n",
              "        text-align: right;\n",
              "    }\n",
              "</style>\n",
              "<table border=\"1\" class=\"dataframe\">\n",
              "  <thead>\n",
              "    <tr style=\"text-align: right;\">\n",
              "      <th></th>\n",
              "      <th>turns</th>\n",
              "      <th>winner</th>\n",
              "      <th>increment_code</th>\n",
              "      <th>white_rating</th>\n",
              "      <th>black_rating</th>\n",
              "      <th>opening_eco</th>\n",
              "      <th>White Wins</th>\n",
              "      <th>Black Wins</th>\n",
              "      <th>Draw</th>\n",
              "      <th>ranking</th>\n",
              "    </tr>\n",
              "  </thead>\n",
              "  <tbody>\n",
              "    <tr>\n",
              "      <th>0</th>\n",
              "      <td>13</td>\n",
              "      <td>white</td>\n",
              "      <td>15+2</td>\n",
              "      <td>1500</td>\n",
              "      <td>1191</td>\n",
              "      <td>D10</td>\n",
              "      <td>1</td>\n",
              "      <td>0</td>\n",
              "      <td>0</td>\n",
              "      <td>Gold</td>\n",
              "    </tr>\n",
              "    <tr>\n",
              "      <th>1</th>\n",
              "      <td>16</td>\n",
              "      <td>black</td>\n",
              "      <td>5+10</td>\n",
              "      <td>1322</td>\n",
              "      <td>1261</td>\n",
              "      <td>B00</td>\n",
              "      <td>0</td>\n",
              "      <td>1</td>\n",
              "      <td>0</td>\n",
              "      <td>Silver</td>\n",
              "    </tr>\n",
              "    <tr>\n",
              "      <th>2</th>\n",
              "      <td>61</td>\n",
              "      <td>white</td>\n",
              "      <td>5+10</td>\n",
              "      <td>1496</td>\n",
              "      <td>1500</td>\n",
              "      <td>C20</td>\n",
              "      <td>1</td>\n",
              "      <td>0</td>\n",
              "      <td>0</td>\n",
              "      <td>Gold</td>\n",
              "    </tr>\n",
              "    <tr>\n",
              "      <th>3</th>\n",
              "      <td>61</td>\n",
              "      <td>white</td>\n",
              "      <td>20+0</td>\n",
              "      <td>1439</td>\n",
              "      <td>1454</td>\n",
              "      <td>D02</td>\n",
              "      <td>1</td>\n",
              "      <td>0</td>\n",
              "      <td>0</td>\n",
              "      <td>Gold</td>\n",
              "    </tr>\n",
              "    <tr>\n",
              "      <th>4</th>\n",
              "      <td>95</td>\n",
              "      <td>white</td>\n",
              "      <td>30+3</td>\n",
              "      <td>1523</td>\n",
              "      <td>1469</td>\n",
              "      <td>C41</td>\n",
              "      <td>1</td>\n",
              "      <td>0</td>\n",
              "      <td>0</td>\n",
              "      <td>Gold</td>\n",
              "    </tr>\n",
              "  </tbody>\n",
              "</table>\n",
              "</div>"
            ],
            "text/plain": [
              "   turns winner increment_code  ...  Black Wins  Draw ranking\n",
              "0     13  white           15+2  ...           0     0    Gold\n",
              "1     16  black           5+10  ...           1     0  Silver\n",
              "2     61  white           5+10  ...           0     0    Gold\n",
              "3     61  white           20+0  ...           0     0    Gold\n",
              "4     95  white           30+3  ...           0     0    Gold\n",
              "\n",
              "[5 rows x 10 columns]"
            ]
          },
          "metadata": {
            "tags": []
          },
          "execution_count": 149
        }
      ]
    },
    {
      "cell_type": "markdown",
      "metadata": {
        "id": "ABkJGoZs6Bso"
      },
      "source": [
        "#Split Data\n",
        "\n",
        "There are a few targets we're going to look at: \n",
        "1. Game length (turns)\n",
        "2. Black Wins Over 50%\n",
        "3. White Wins over 50%\n",
        "4. Ranking"
      ]
    },
    {
      "cell_type": "code",
      "metadata": {
        "id": "G5K7OhGs6iMw",
        "outputId": "f3444c83-27ff-4607-eb78-b638e174b57e",
        "colab": {
          "base_uri": "https://localhost:8080/",
          "height": 51
        }
      },
      "source": [
        "# Glength = 'turns'\n",
        "# Bwins = 'Black Wins'\n",
        "# Wwins = 'White Wins'\n",
        "# rankings = 'ranking'\n",
        "\n",
        "# f_Glength = ranking[Glength]\n",
        "# X_Glength = ranking.drop(['turns'], axis=1)\n",
        "# f_Bwins = stat[Bwins]\n",
        "# X_Bwins = stat.drop(columns=Bwins)\n",
        "# f_Wwins = stat[Wwins]\n",
        "# X_Wwins = stat.drop(columns=Wwins)\n",
        "# f_ranking = ranking[rankings]\n",
        "# X_ranking = ranking.drop(columns=ranking)\n",
        "\n",
        "# print(f_Glength.shape)\n",
        "# print(X_Glength.shape)\n",
        "\n",
        "target = 'turns'\n",
        "y = ranking[target]\n",
        "X = ranking.drop(columns=target)\n",
        "print(y.shape)\n",
        "print(X.shape)"
      ],
      "execution_count": 150,
      "outputs": [
        {
          "output_type": "stream",
          "text": [
            "(20058,)\n",
            "(20058, 9)\n"
          ],
          "name": "stdout"
        }
      ]
    },
    {
      "cell_type": "code",
      "metadata": {
        "id": "CfiRn3eZplFd",
        "outputId": "0c6028f1-f3c0-48b7-edbe-8d2ab423db8b",
        "colab": {
          "base_uri": "https://localhost:8080/",
          "height": 51
        }
      },
      "source": [
        "from sklearn.model_selection import train_test_split\n",
        "\n",
        "X_train , X_val, y_train, y_val = train_test_split(X, y, test_size=0.2, random_state=42)\n",
        "\n",
        "print(X_train.shape)\n",
        "print(X_val.shape)\n"
      ],
      "execution_count": 151,
      "outputs": [
        {
          "output_type": "stream",
          "text": [
            "(16046, 9)\n",
            "(4012, 9)\n"
          ],
          "name": "stdout"
        }
      ]
    },
    {
      "cell_type": "code",
      "metadata": {
        "id": "2-eRNvD9wAOU",
        "outputId": "10173f0f-a532-425b-d80f-904fa9ee14f6",
        "colab": {
          "base_uri": "https://localhost:8080/",
          "height": 34
        }
      },
      "source": [
        "from sklearn.metrics import mean_absolute_error\n",
        "\n",
        "baseline_acc = y_train.value_counts(normalize=True).max()\n",
        "y_pred = [y.mean()]*len(y)\n",
        "print('Baseline Acc:', baseline_acc)"
      ],
      "execution_count": 152,
      "outputs": [
        {
          "output_type": "stream",
          "text": [
            "Baseline Acc: 0.01570484856038888\n"
          ],
          "name": "stdout"
        }
      ]
    },
    {
      "cell_type": "markdown",
      "metadata": {
        "id": "IF4i-q3ewk0e"
      },
      "source": [
        "Our baseline accuracy is pretty abysmal, but the thing we are measuring is the length of games, which isn't truly determinant by any factor. The hypothesis is our length of games will increase based on the rating of players. Our second hypothesis relating to game length is going to be based on disparity between the player ratings. "
      ]
    },
    {
      "cell_type": "code",
      "metadata": {
        "id": "JbM_lU-xwRtK",
        "outputId": "79cd2026-403d-4e28-9b74-187043024bd9",
        "colab": {
          "base_uri": "https://localhost:8080/",
          "height": 340
        }
      },
      "source": [
        "from sklearn.linear_model import LogisticRegression, LinearRegression\n",
        "from sklearn.preprocessing import StandardScaler\n",
        "from sklearn.pipeline import make_pipeline\n",
        "from category_encoders import OneHotEncoder\n",
        "from sklearn.impute import SimpleImputer\n",
        "\n",
        "model_lin = make_pipeline(\n",
        "    OneHotEncoder(use_cat_names=True),\n",
        "    SimpleImputer(),\n",
        "    StandardScaler(),\n",
        "    LinearRegression())\n",
        "model_lin.fit(X_train, y_train)"
      ],
      "execution_count": 153,
      "outputs": [
        {
          "output_type": "stream",
          "text": [
            "/usr/local/lib/python3.6/dist-packages/category_encoders/utils.py:21: FutureWarning: is_categorical is deprecated and will be removed in a future version.  Use is_categorical_dtype instead\n",
            "  elif pd.api.types.is_categorical(cols):\n"
          ],
          "name": "stderr"
        },
        {
          "output_type": "execute_result",
          "data": {
            "text/plain": [
              "Pipeline(memory=None,\n",
              "         steps=[('onehotencoder',\n",
              "                 OneHotEncoder(cols=['winner', 'increment_code', 'opening_eco',\n",
              "                                     'ranking'],\n",
              "                               drop_invariant=False, handle_missing='value',\n",
              "                               handle_unknown='value', return_df=True,\n",
              "                               use_cat_names=True, verbose=0)),\n",
              "                ('simpleimputer',\n",
              "                 SimpleImputer(add_indicator=False, copy=True, fill_value=None,\n",
              "                               missing_values=nan, strategy='mean',\n",
              "                               verbose=0)),\n",
              "                ('standardscaler',\n",
              "                 StandardScaler(copy=True, with_mean=True, with_std=True)),\n",
              "                ('linearregression',\n",
              "                 LinearRegression(copy_X=True, fit_intercept=True, n_jobs=None,\n",
              "                                  normalize=False))],\n",
              "         verbose=False)"
            ]
          },
          "metadata": {
            "tags": []
          },
          "execution_count": 153
        }
      ]
    },
    {
      "cell_type": "code",
      "metadata": {
        "id": "x7vmUxa-BEOC",
        "outputId": "c78e374a-a9ed-4525-9010-5a15df4d2d8c",
        "colab": {
          "base_uri": "https://localhost:8080/",
          "height": 51
        }
      },
      "source": [
        "print('Train ACC Score:', model_lin.score(X_train, y_train))\n",
        "print('Validation ACC Score:', model_lin.score(X_val, y_val))"
      ],
      "execution_count": 154,
      "outputs": [
        {
          "output_type": "stream",
          "text": [
            "Train ACC Score: 0.11728994085049314\n",
            "Validation ACC Score: -1.81151070583888e+23\n"
          ],
          "name": "stdout"
        }
      ]
    },
    {
      "cell_type": "code",
      "metadata": {
        "id": "aHiLStSRFUDx",
        "outputId": "d8ae82af-240f-4714-fb91-baac26206f28",
        "colab": {
          "base_uri": "https://localhost:8080/",
          "height": 297
        }
      },
      "source": [
        "plt.scatter(X_train['ranking'], y_train)\n",
        "# chart = sns.scatterplot(data=ranking, x='ranking', y='turns')\n",
        "# chart.set_xticklabels(chart.get_xticklabels(), rotation=45)\n",
        "plt.xlabel('Ranking')\n",
        "plt.ylabel('Length of game')\n",
        "#plt.xticks(X_train['ranking'], cut_troll_labels, rotation=45);"
      ],
      "execution_count": 155,
      "outputs": [
        {
          "output_type": "execute_result",
          "data": {
            "text/plain": [
              "Text(0, 0.5, 'Length of game')"
            ]
          },
          "metadata": {
            "tags": []
          },
          "execution_count": 155
        },
        {
          "output_type": "display_data",
          "data": {
            "image/png": "[encoded data removed]",
            "text/plain": [
              "<Figure size 432x288 with 1 Axes>"
            ]
          },
          "metadata": {
            "tags": [],
            "needs_background": "light"
          }
        }
      ]
    },
    {
      "cell_type": "markdown",
      "metadata": {
        "id": "jnRsTXKsHT6G"
      },
      "source": [
        "Looking at this data, it seems that the highest concentration of long games are actually in the middle rankings {Gold, Diamond, Platinum, CM}. "
      ]
    },
    {
      "cell_type": "code",
      "metadata": {
        "id": "f2DF5fGxHs93",
        "outputId": "16a7356e-0e6d-44a8-945e-bf18dbbddf29",
        "colab": {
          "base_uri": "https://localhost:8080/",
          "height": 187
        }
      },
      "source": [
        "model_log = make_pipeline(\n",
        "    OneHotEncoder(use_cat_names=True),\n",
        "    SimpleImputer(),\n",
        "    StandardScaler(),\n",
        "    LogisticRegression())\n",
        "model_log.fit(X_train, y_train);"
      ],
      "execution_count": 156,
      "outputs": [
        {
          "output_type": "stream",
          "text": [
            "/usr/local/lib/python3.6/dist-packages/category_encoders/utils.py:21: FutureWarning: is_categorical is deprecated and will be removed in a future version.  Use is_categorical_dtype instead\n",
            "  elif pd.api.types.is_categorical(cols):\n",
            "/usr/local/lib/python3.6/dist-packages/sklearn/linear_model/_logistic.py:940: ConvergenceWarning: lbfgs failed to converge (status=1):\n",
            "STOP: TOTAL NO. of ITERATIONS REACHED LIMIT.\n",
            "\n",
            "Increase the number of iterations (max_iter) or scale the data as shown in:\n",
            "    https://scikit-learn.org/stable/modules/preprocessing.html\n",
            "Please also refer to the documentation for alternative solver options:\n",
            "    https://scikit-learn.org/stable/modules/linear_model.html#logistic-regression\n",
            "  extra_warning_msg=_LOGISTIC_SOLVER_CONVERGENCE_MSG)\n"
          ],
          "name": "stderr"
        }
      ]
    },
    {
      "cell_type": "code",
      "metadata": {
        "id": "jHJcXIN5QlSx",
        "outputId": "041d646f-8248-450d-acf9-5070bc167cbc",
        "colab": {
          "base_uri": "https://localhost:8080/",
          "height": 51
        }
      },
      "source": [
        "print('Training Acc Score:', model_log.score(X_train, y_train))\n",
        "print('Validation ACC Score:', model_log.score(X_val, y_val))"
      ],
      "execution_count": 157,
      "outputs": [
        {
          "output_type": "stream",
          "text": [
            "Training Acc Score: 0.2032282188707466\n",
            "Validation ACC Score: 0.03589232303090728\n"
          ],
          "name": "stdout"
        }
      ]
    },
    {
      "cell_type": "markdown",
      "metadata": {
        "id": "9PRxfjG4SQJa"
      },
      "source": [
        "Using a linear model, we started to see significance in our scoring, although still within 1 std deviation. While using the logistic model we went up to a 20% accuracy score, which means that there are features that have bearing on the target (game length). Our validation accuracy is really low, which tells me that our findings aren't worth very much yet. \n",
        "\n",
        "\n",
        "Based on this information, it seems appropriate to engineer a new feature, disparity in player rating. \n",
        "\n",
        "\n",
        "\n"
      ]
    },
    {
      "cell_type": "code",
      "metadata": {
        "id": "TBDJa4DAeYbN",
        "outputId": "a5dd309a-2a6c-4fbe-dde5-c055973615d0",
        "colab": {
          "base_uri": "https://localhost:8080/",
          "height": 204
        }
      },
      "source": [
        "ranking.head()"
      ],
      "execution_count": 158,
      "outputs": [
        {
          "output_type": "execute_result",
          "data": {
            "text/html": [
              "<div>\n",
              "<style scoped>\n",
              "    .dataframe tbody tr th:only-of-type {\n",
              "        vertical-align: middle;\n",
              "    }\n",
              "\n",
              "    .dataframe tbody tr th {\n",
              "        vertical-align: top;\n",
              "    }\n",
              "\n",
              "    .dataframe thead th {\n",
              "        text-align: right;\n",
              "    }\n",
              "</style>\n",
              "<table border=\"1\" class=\"dataframe\">\n",
              "  <thead>\n",
              "    <tr style=\"text-align: right;\">\n",
              "      <th></th>\n",
              "      <th>turns</th>\n",
              "      <th>winner</th>\n",
              "      <th>increment_code</th>\n",
              "      <th>white_rating</th>\n",
              "      <th>black_rating</th>\n",
              "      <th>opening_eco</th>\n",
              "      <th>White Wins</th>\n",
              "      <th>Black Wins</th>\n",
              "      <th>Draw</th>\n",
              "      <th>ranking</th>\n",
              "    </tr>\n",
              "  </thead>\n",
              "  <tbody>\n",
              "    <tr>\n",
              "      <th>0</th>\n",
              "      <td>13</td>\n",
              "      <td>white</td>\n",
              "      <td>15+2</td>\n",
              "      <td>1500</td>\n",
              "      <td>1191</td>\n",
              "      <td>D10</td>\n",
              "      <td>1</td>\n",
              "      <td>0</td>\n",
              "      <td>0</td>\n",
              "      <td>Gold</td>\n",
              "    </tr>\n",
              "    <tr>\n",
              "      <th>1</th>\n",
              "      <td>16</td>\n",
              "      <td>black</td>\n",
              "      <td>5+10</td>\n",
              "      <td>1322</td>\n",
              "      <td>1261</td>\n",
              "      <td>B00</td>\n",
              "      <td>0</td>\n",
              "      <td>1</td>\n",
              "      <td>0</td>\n",
              "      <td>Silver</td>\n",
              "    </tr>\n",
              "    <tr>\n",
              "      <th>2</th>\n",
              "      <td>61</td>\n",
              "      <td>white</td>\n",
              "      <td>5+10</td>\n",
              "      <td>1496</td>\n",
              "      <td>1500</td>\n",
              "      <td>C20</td>\n",
              "      <td>1</td>\n",
              "      <td>0</td>\n",
              "      <td>0</td>\n",
              "      <td>Gold</td>\n",
              "    </tr>\n",
              "    <tr>\n",
              "      <th>3</th>\n",
              "      <td>61</td>\n",
              "      <td>white</td>\n",
              "      <td>20+0</td>\n",
              "      <td>1439</td>\n",
              "      <td>1454</td>\n",
              "      <td>D02</td>\n",
              "      <td>1</td>\n",
              "      <td>0</td>\n",
              "      <td>0</td>\n",
              "      <td>Gold</td>\n",
              "    </tr>\n",
              "    <tr>\n",
              "      <th>4</th>\n",
              "      <td>95</td>\n",
              "      <td>white</td>\n",
              "      <td>30+3</td>\n",
              "      <td>1523</td>\n",
              "      <td>1469</td>\n",
              "      <td>C41</td>\n",
              "      <td>1</td>\n",
              "      <td>0</td>\n",
              "      <td>0</td>\n",
              "      <td>Gold</td>\n",
              "    </tr>\n",
              "  </tbody>\n",
              "</table>\n",
              "</div>"
            ],
            "text/plain": [
              "   turns winner increment_code  ...  Black Wins  Draw ranking\n",
              "0     13  white           15+2  ...           0     0    Gold\n",
              "1     16  black           5+10  ...           1     0  Silver\n",
              "2     61  white           5+10  ...           0     0    Gold\n",
              "3     61  white           20+0  ...           0     0    Gold\n",
              "4     95  white           30+3  ...           0     0    Gold\n",
              "\n",
              "[5 rows x 10 columns]"
            ]
          },
          "metadata": {
            "tags": []
          },
          "execution_count": 158
        }
      ]
    },
    {
      "cell_type": "code",
      "metadata": {
        "id": "wIyAV23Xf_Ic",
        "outputId": "d383f402-4666-4e5a-ef7e-061512c91431",
        "colab": {
          "base_uri": "https://localhost:8080/",
          "height": 204
        }
      },
      "source": [
        "ranking['Disparity'] = abs(ranking['white_rating']-ranking['black_rating'])\n",
        "ranking.head()"
      ],
      "execution_count": 159,
      "outputs": [
        {
          "output_type": "execute_result",
          "data": {
            "text/html": [
              "<div>\n",
              "<style scoped>\n",
              "    .dataframe tbody tr th:only-of-type {\n",
              "        vertical-align: middle;\n",
              "    }\n",
              "\n",
              "    .dataframe tbody tr th {\n",
              "        vertical-align: top;\n",
              "    }\n",
              "\n",
              "    .dataframe thead th {\n",
              "        text-align: right;\n",
              "    }\n",
              "</style>\n",
              "<table border=\"1\" class=\"dataframe\">\n",
              "  <thead>\n",
              "    <tr style=\"text-align: right;\">\n",
              "      <th></th>\n",
              "      <th>turns</th>\n",
              "      <th>winner</th>\n",
              "      <th>increment_code</th>\n",
              "      <th>white_rating</th>\n",
              "      <th>black_rating</th>\n",
              "      <th>opening_eco</th>\n",
              "      <th>White Wins</th>\n",
              "      <th>Black Wins</th>\n",
              "      <th>Draw</th>\n",
              "      <th>ranking</th>\n",
              "      <th>Disparity</th>\n",
              "    </tr>\n",
              "  </thead>\n",
              "  <tbody>\n",
              "    <tr>\n",
              "      <th>0</th>\n",
              "      <td>13</td>\n",
              "      <td>white</td>\n",
              "      <td>15+2</td>\n",
              "      <td>1500</td>\n",
              "      <td>1191</td>\n",
              "      <td>D10</td>\n",
              "      <td>1</td>\n",
              "      <td>0</td>\n",
              "      <td>0</td>\n",
              "      <td>Gold</td>\n",
              "      <td>309</td>\n",
              "    </tr>\n",
              "    <tr>\n",
              "      <th>1</th>\n",
              "      <td>16</td>\n",
              "      <td>black</td>\n",
              "      <td>5+10</td>\n",
              "      <td>1322</td>\n",
              "      <td>1261</td>\n",
              "      <td>B00</td>\n",
              "      <td>0</td>\n",
              "      <td>1</td>\n",
              "      <td>0</td>\n",
              "      <td>Silver</td>\n",
              "      <td>61</td>\n",
              "    </tr>\n",
              "    <tr>\n",
              "      <th>2</th>\n",
              "      <td>61</td>\n",
              "      <td>white</td>\n",
              "      <td>5+10</td>\n",
              "      <td>1496</td>\n",
              "      <td>1500</td>\n",
              "      <td>C20</td>\n",
              "      <td>1</td>\n",
              "      <td>0</td>\n",
              "      <td>0</td>\n",
              "      <td>Gold</td>\n",
              "      <td>4</td>\n",
              "    </tr>\n",
              "    <tr>\n",
              "      <th>3</th>\n",
              "      <td>61</td>\n",
              "      <td>white</td>\n",
              "      <td>20+0</td>\n",
              "      <td>1439</td>\n",
              "      <td>1454</td>\n",
              "      <td>D02</td>\n",
              "      <td>1</td>\n",
              "      <td>0</td>\n",
              "      <td>0</td>\n",
              "      <td>Gold</td>\n",
              "      <td>15</td>\n",
              "    </tr>\n",
              "    <tr>\n",
              "      <th>4</th>\n",
              "      <td>95</td>\n",
              "      <td>white</td>\n",
              "      <td>30+3</td>\n",
              "      <td>1523</td>\n",
              "      <td>1469</td>\n",
              "      <td>C41</td>\n",
              "      <td>1</td>\n",
              "      <td>0</td>\n",
              "      <td>0</td>\n",
              "      <td>Gold</td>\n",
              "      <td>54</td>\n",
              "    </tr>\n",
              "  </tbody>\n",
              "</table>\n",
              "</div>"
            ],
            "text/plain": [
              "   turns winner increment_code  ...  Draw  ranking Disparity\n",
              "0     13  white           15+2  ...     0     Gold       309\n",
              "1     16  black           5+10  ...     0   Silver        61\n",
              "2     61  white           5+10  ...     0     Gold         4\n",
              "3     61  white           20+0  ...     0     Gold        15\n",
              "4     95  white           30+3  ...     0     Gold        54\n",
              "\n",
              "[5 rows x 11 columns]"
            ]
          },
          "metadata": {
            "tags": []
          },
          "execution_count": 159
        }
      ]
    },
    {
      "cell_type": "code",
      "metadata": {
        "id": "Ow5Y8LIChyum",
        "outputId": "28720973-41ef-4e74-82e3-250f5d83abdb",
        "colab": {
          "base_uri": "https://localhost:8080/",
          "height": 85
        }
      },
      "source": [
        "XR = ranking.drop(columns=target)\n",
        "XR_train , XR_val, yr_train, yr_val = train_test_split(X, y, test_size=0.2, random_state=42)\n",
        "\n",
        "print(XR_train.shape)\n",
        "print(XR_val.shape)\n",
        "\n",
        "print(y.shape)\n",
        "print(XR.shape)"
      ],
      "execution_count": 160,
      "outputs": [
        {
          "output_type": "stream",
          "text": [
            "(16046, 9)\n",
            "(4012, 9)\n",
            "(20058,)\n",
            "(20058, 10)\n"
          ],
          "name": "stdout"
        }
      ]
    },
    {
      "cell_type": "code",
      "metadata": {
        "id": "k-mDtBnGiKCN",
        "outputId": "70ea6283-1497-4d77-b046-9a5ee6aa9456",
        "colab": {
          "base_uri": "https://localhost:8080/",
          "height": 187
        }
      },
      "source": [
        "model_log = make_pipeline(\n",
        "    OneHotEncoder(use_cat_names=True),\n",
        "    SimpleImputer(),\n",
        "    StandardScaler(),\n",
        "    LogisticRegression())\n",
        "model_log.fit(X_train, y_train);"
      ],
      "execution_count": 161,
      "outputs": [
        {
          "output_type": "stream",
          "text": [
            "/usr/local/lib/python3.6/dist-packages/category_encoders/utils.py:21: FutureWarning: is_categorical is deprecated and will be removed in a future version.  Use is_categorical_dtype instead\n",
            "  elif pd.api.types.is_categorical(cols):\n",
            "/usr/local/lib/python3.6/dist-packages/sklearn/linear_model/_logistic.py:940: ConvergenceWarning: lbfgs failed to converge (status=1):\n",
            "STOP: TOTAL NO. of ITERATIONS REACHED LIMIT.\n",
            "\n",
            "Increase the number of iterations (max_iter) or scale the data as shown in:\n",
            "    https://scikit-learn.org/stable/modules/preprocessing.html\n",
            "Please also refer to the documentation for alternative solver options:\n",
            "    https://scikit-learn.org/stable/modules/linear_model.html#logistic-regression\n",
            "  extra_warning_msg=_LOGISTIC_SOLVER_CONVERGENCE_MSG)\n"
          ],
          "name": "stderr"
        }
      ]
    },
    {
      "cell_type": "code",
      "metadata": {
        "id": "OYLfbZBgiYjP",
        "outputId": "179a3c40-5bb4-427d-b93c-084f5e84cca1",
        "colab": {
          "base_uri": "https://localhost:8080/",
          "height": 51
        }
      },
      "source": [
        "print('Training Acc Score:', model_log.score(X_train, y_train))\n",
        "print('Validation ACC Score:', model_log.score(X_val, y_val))"
      ],
      "execution_count": 162,
      "outputs": [
        {
          "output_type": "stream",
          "text": [
            "Training Acc Score: 0.2032282188707466\n",
            "Validation ACC Score: 0.03589232303090728\n"
          ],
          "name": "stdout"
        }
      ]
    },
    {
      "cell_type": "code",
      "metadata": {
        "id": "MghEdFkJljW9",
        "outputId": "6dc36675-8f89-4e9c-baad-b3e0b818e5a1",
        "colab": {
          "base_uri": "https://localhost:8080/",
          "height": 85
        }
      },
      "source": [
        "y_pred = [y.mean()]* len(y)\n",
        "print('Expected variation in moves:', mean_absolute_error(y, y_pred))\n",
        "print('Average number of moves:', y.mean())\n",
        "print('Maximum number of moves:', y.max())\n",
        "print('Minium number of moves:', y.min())"
      ],
      "execution_count": 163,
      "outputs": [
        {
          "output_type": "stream",
          "text": [
            "Expected variation in moves: 26.119823918553237\n",
            "Average number of moves: 60.46599860404826\n",
            "Maximum number of moves: 349\n",
            "Minium number of moves: 1\n"
          ],
          "name": "stdout"
        }
      ]
    },
    {
      "cell_type": "code",
      "metadata": {
        "id": "MkjbRvHgnzC4"
      },
      "source": [
        "x = ranking[['Disparity']]\n",
        "y = ranking[target]\n",
        "model = LinearRegression()\n",
        "model.fit(x,y)\n",
        "y_pred = model.predict(x)"
      ],
      "execution_count": 164,
      "outputs": []
    },
    {
      "cell_type": "code",
      "metadata": {
        "id": "eiGkivFipUg6",
        "outputId": "ded7b655-f48d-44e5-c6b7-ad9f1ac8f968",
        "colab": {
          "base_uri": "https://localhost:8080/",
          "height": 34
        }
      },
      "source": [
        "print(mean_absolute_error(y, y_pred))"
      ],
      "execution_count": 165,
      "outputs": [
        {
          "output_type": "stream",
          "text": [
            "25.925188711477244\n"
          ],
          "name": "stdout"
        }
      ]
    },
    {
      "cell_type": "code",
      "metadata": {
        "id": "mk3CT-2Ip2W_",
        "outputId": "315b2d6e-4a9b-43d7-e5be-86c4865fa0ad",
        "colab": {
          "base_uri": "https://localhost:8080/",
          "height": 313
        }
      },
      "source": [
        "plt.scatter(x,y)\n",
        "plt.plot(x,y_pred, color='r')\n",
        "plt.xlabel('Disparity')\n",
        "plt.ylabel('turns')\n",
        "plt.legend()"
      ],
      "execution_count": 166,
      "outputs": [
        {
          "output_type": "stream",
          "text": [
            "No handles with labels found to put in legend.\n"
          ],
          "name": "stderr"
        },
        {
          "output_type": "execute_result",
          "data": {
            "text/plain": [
              "<matplotlib.legend.Legend at 0x7f01b1d6ecf8>"
            ]
          },
          "metadata": {
            "tags": []
          },
          "execution_count": 166
        },
        {
          "output_type": "display_data",
          "data": {
            "image/png": "[encoded data removed]",
            "text/plain": [
              "<Figure size 432x288 with 1 Axes>"
            ]
          },
          "metadata": {
            "tags": [],
            "needs_background": "light"
          }
        }
      ]
    },
    {
      "cell_type": "code",
      "metadata": {
        "id": "JbZhUmALqa-w",
        "outputId": "b1a54f98-89d6-4dd0-d48b-fb50d5531dba",
        "colab": {
          "base_uri": "https://localhost:8080/",
          "height": 34
        }
      },
      "source": [
        "print(f'Turns = {model.intercept_} + {model.coef_[0]} x Disparity')"
      ],
      "execution_count": 181,
      "outputs": [
        {
          "output_type": "stream",
          "text": [
            "Turns = 64.56857718633168 + -0.023701800069426862 x Disparity\n"
          ],
          "name": "stdout"
        }
      ]
    },
    {
      "cell_type": "markdown",
      "metadata": {
        "id": "8QY9kC73ptph"
      },
      "source": [
        "The length of games is somewhat surprising, but the conclusion is expected. As the disparity between player level increases, the amount of moves necessary for a player to win decreases. The rate of decrease is fairly slow, which may show how steep the learning curve is. In many games a disparity of 200 rating means that the lower level player is beaten very hard, very quickly."
      ]
    },
    {
      "cell_type": "markdown",
      "metadata": {
        "id": "ayvShA8AwrC-"
      },
      "source": [
        "#Tree models"
      ]
    },
    {
      "cell_type": "code",
      "metadata": {
        "id": "LFdDgPPFwqOy",
        "outputId": "45155b00-eedb-4f75-9b65-f98da87c55a1",
        "colab": {
          "base_uri": "https://localhost:8080/",
          "height": 204
        }
      },
      "source": [
        "ranking.head()"
      ],
      "execution_count": 168,
      "outputs": [
        {
          "output_type": "execute_result",
          "data": {
            "text/html": [
              "<div>\n",
              "<style scoped>\n",
              "    .dataframe tbody tr th:only-of-type {\n",
              "        vertical-align: middle;\n",
              "    }\n",
              "\n",
              "    .dataframe tbody tr th {\n",
              "        vertical-align: top;\n",
              "    }\n",
              "\n",
              "    .dataframe thead th {\n",
              "        text-align: right;\n",
              "    }\n",
              "</style>\n",
              "<table border=\"1\" class=\"dataframe\">\n",
              "  <thead>\n",
              "    <tr style=\"text-align: right;\">\n",
              "      <th></th>\n",
              "      <th>turns</th>\n",
              "      <th>winner</th>\n",
              "      <th>increment_code</th>\n",
              "      <th>white_rating</th>\n",
              "      <th>black_rating</th>\n",
              "      <th>opening_eco</th>\n",
              "      <th>White Wins</th>\n",
              "      <th>Black Wins</th>\n",
              "      <th>Draw</th>\n",
              "      <th>ranking</th>\n",
              "      <th>Disparity</th>\n",
              "    </tr>\n",
              "  </thead>\n",
              "  <tbody>\n",
              "    <tr>\n",
              "      <th>0</th>\n",
              "      <td>13</td>\n",
              "      <td>white</td>\n",
              "      <td>15+2</td>\n",
              "      <td>1500</td>\n",
              "      <td>1191</td>\n",
              "      <td>D10</td>\n",
              "      <td>1</td>\n",
              "      <td>0</td>\n",
              "      <td>0</td>\n",
              "      <td>Gold</td>\n",
              "      <td>309</td>\n",
              "    </tr>\n",
              "    <tr>\n",
              "      <th>1</th>\n",
              "      <td>16</td>\n",
              "      <td>black</td>\n",
              "      <td>5+10</td>\n",
              "      <td>1322</td>\n",
              "      <td>1261</td>\n",
              "      <td>B00</td>\n",
              "      <td>0</td>\n",
              "      <td>1</td>\n",
              "      <td>0</td>\n",
              "      <td>Silver</td>\n",
              "      <td>61</td>\n",
              "    </tr>\n",
              "    <tr>\n",
              "      <th>2</th>\n",
              "      <td>61</td>\n",
              "      <td>white</td>\n",
              "      <td>5+10</td>\n",
              "      <td>1496</td>\n",
              "      <td>1500</td>\n",
              "      <td>C20</td>\n",
              "      <td>1</td>\n",
              "      <td>0</td>\n",
              "      <td>0</td>\n",
              "      <td>Gold</td>\n",
              "      <td>4</td>\n",
              "    </tr>\n",
              "    <tr>\n",
              "      <th>3</th>\n",
              "      <td>61</td>\n",
              "      <td>white</td>\n",
              "      <td>20+0</td>\n",
              "      <td>1439</td>\n",
              "      <td>1454</td>\n",
              "      <td>D02</td>\n",
              "      <td>1</td>\n",
              "      <td>0</td>\n",
              "      <td>0</td>\n",
              "      <td>Gold</td>\n",
              "      <td>15</td>\n",
              "    </tr>\n",
              "    <tr>\n",
              "      <th>4</th>\n",
              "      <td>95</td>\n",
              "      <td>white</td>\n",
              "      <td>30+3</td>\n",
              "      <td>1523</td>\n",
              "      <td>1469</td>\n",
              "      <td>C41</td>\n",
              "      <td>1</td>\n",
              "      <td>0</td>\n",
              "      <td>0</td>\n",
              "      <td>Gold</td>\n",
              "      <td>54</td>\n",
              "    </tr>\n",
              "  </tbody>\n",
              "</table>\n",
              "</div>"
            ],
            "text/plain": [
              "   turns winner increment_code  ...  Draw  ranking Disparity\n",
              "0     13  white           15+2  ...     0     Gold       309\n",
              "1     16  black           5+10  ...     0   Silver        61\n",
              "2     61  white           5+10  ...     0     Gold         4\n",
              "3     61  white           20+0  ...     0     Gold        15\n",
              "4     95  white           30+3  ...     0     Gold        54\n",
              "\n",
              "[5 rows x 11 columns]"
            ]
          },
          "metadata": {
            "tags": []
          },
          "execution_count": 168
        }
      ]
    },
    {
      "cell_type": "code",
      "metadata": {
        "id": "0enxzEavA5Yx",
        "outputId": "9edbe19d-8db1-45e2-e787-e1715384151c",
        "colab": {
          "base_uri": "https://localhost:8080/",
          "height": 51
        }
      },
      "source": [
        "target = 'ranking'\n",
        "leaky_col = 'white_rating'\n",
        "y = ranking[target]\n",
        "X = ranking.drop(columns=[target, leaky_col])\n",
        "print(y.shape)\n",
        "print(X.shape)"
      ],
      "execution_count": 169,
      "outputs": [
        {
          "output_type": "stream",
          "text": [
            "(20058,)\n",
            "(20058, 9)\n"
          ],
          "name": "stdout"
        }
      ]
    },
    {
      "cell_type": "markdown",
      "metadata": {
        "id": "K6EJcR6mdL_8"
      },
      "source": [
        "# Split"
      ]
    },
    {
      "cell_type": "code",
      "metadata": {
        "id": "7HkL6PJ3RBxN",
        "outputId": "eb1fa11c-dc16-4e17-a8ee-e063d06b2dd5",
        "colab": {
          "base_uri": "https://localhost:8080/",
          "height": 51
        }
      },
      "source": [
        "X_train , X_val, y_train, y_val = train_test_split(X, y, test_size=0.2, random_state=42)\n",
        "print(X_train.shape)\n",
        "print(X_val.shape)"
      ],
      "execution_count": 170,
      "outputs": [
        {
          "output_type": "stream",
          "text": [
            "(16046, 9)\n",
            "(4012, 9)\n"
          ],
          "name": "stdout"
        }
      ]
    },
    {
      "cell_type": "code",
      "metadata": {
        "id": "rzKWQg4XRVmM",
        "outputId": "67260949-0229-4ae8-f430-01c1a8160220",
        "colab": {
          "base_uri": "https://localhost:8080/",
          "height": 34
        }
      },
      "source": [
        "baseline_acc = y_train.value_counts(normalize=True).max()\n",
        "print('Baseline ACC:', baseline_acc)"
      ],
      "execution_count": 171,
      "outputs": [
        {
          "output_type": "stream",
          "text": [
            "Baseline ACC: 0.288607752710956\n"
          ],
          "name": "stdout"
        }
      ]
    },
    {
      "cell_type": "markdown",
      "metadata": {
        "id": "oEKNkTGRc821"
      },
      "source": [
        "#Model_bag\n"
      ]
    },
    {
      "cell_type": "code",
      "metadata": {
        "id": "_cRS0-c3Rnfk",
        "outputId": "22532786-522c-4c10-9653-599395dc7aab",
        "colab": {
          "base_uri": "https://localhost:8080/",
          "height": 51
        }
      },
      "source": [
        "from sklearn.ensemble import RandomForestClassifier\n",
        "from category_encoders import OrdinalEncoder\n",
        "model_bag = make_pipeline(\n",
        "    OrdinalEncoder(),\n",
        "    SimpleImputer(),\n",
        "    RandomForestClassifier(n_jobs=-1))\n",
        "model_bag.fit(X_train, y_train);\n",
        "model_bag.fit(X_val, y_val);"
      ],
      "execution_count": 172,
      "outputs": [
        {
          "output_type": "stream",
          "text": [
            "/usr/local/lib/python3.6/dist-packages/category_encoders/utils.py:21: FutureWarning: is_categorical is deprecated and will be removed in a future version.  Use is_categorical_dtype instead\n",
            "  elif pd.api.types.is_categorical(cols):\n"
          ],
          "name": "stderr"
        }
      ]
    },
    {
      "cell_type": "code",
      "metadata": {
        "id": "BinbROW5SRkY",
        "outputId": "c46594d8-2846-49cd-fec0-0cfe25300674",
        "colab": {
          "base_uri": "https://localhost:8080/",
          "height": 51
        }
      },
      "source": [
        "print('Train ACC:', model_bag.score(X_train, y_train))\n",
        "print('Val ACC:', model_bag.score(X_val, y_val))"
      ],
      "execution_count": 173,
      "outputs": [
        {
          "output_type": "stream",
          "text": [
            "Train ACC: 0.7164402343263119\n",
            "Val ACC: 1.0\n"
          ],
          "name": "stdout"
        }
      ]
    },
    {
      "cell_type": "markdown",
      "metadata": {
        "id": "sd_qVdoYdAkK"
      },
      "source": [
        "#Model_boost"
      ]
    },
    {
      "cell_type": "code",
      "metadata": {
        "id": "NlEAGUKETn_O",
        "outputId": "aa612260-c42f-4f66-e907-2104eecbb2b7",
        "colab": {
          "base_uri": "https://localhost:8080/",
          "height": 51
        }
      },
      "source": [
        "from xgboost import XGBClassifier\n",
        "model_boost = make_pipeline(\n",
        "    OrdinalEncoder(),\n",
        "    XGBClassifier(max_depth=10))\n",
        "model_boost.fit(X_train, y_train);\n",
        "model_boost.fit(X_val, y_val);"
      ],
      "execution_count": 174,
      "outputs": [
        {
          "output_type": "stream",
          "text": [
            "/usr/local/lib/python3.6/dist-packages/category_encoders/utils.py:21: FutureWarning: is_categorical is deprecated and will be removed in a future version.  Use is_categorical_dtype instead\n",
            "  elif pd.api.types.is_categorical(cols):\n"
          ],
          "name": "stderr"
        }
      ]
    },
    {
      "cell_type": "code",
      "metadata": {
        "id": "7oceWLf7Uuoa",
        "outputId": "299fbca5-c0df-4a03-ebe0-1b4d9011e17a",
        "colab": {
          "base_uri": "https://localhost:8080/",
          "height": 85
        }
      },
      "source": [
        "print('RandomForest Classifier Training ACC:', model_bag.score(X_train, y_train))\n",
        "print('RandomForest Classifier Validation ACC:', model_bag.score(X_val, y_val))\n",
        "print('XGCBoost Training ACC:', model_boost.score(X_train, y_train))\n",
        "print('XGCBoost Validation ACC:', model_boost.score(X_val, y_val))"
      ],
      "execution_count": 182,
      "outputs": [
        {
          "output_type": "stream",
          "text": [
            "RandomForest Classifier Training ACC: 0.7164402343263119\n",
            "RandomForest Classifier Validation ACC: 1.0\n",
            "XGCBoost Training ACC: 0.7338277452324566\n",
            "XGCBoost Validation ACC: 1.0\n"
          ],
          "name": "stdout"
        }
      ]
    },
    {
      "cell_type": "markdown",
      "metadata": {
        "id": "sZxZzsBAdFpR"
      },
      "source": [
        "#Visualizations"
      ]
    },
    {
      "cell_type": "markdown",
      "metadata": {
        "id": "EES9YbhCZGvG"
      },
      "source": [
        "I started with max_depth unchanged on both my bag model and my XGboost model. The bag model overfit the data 95% and more on a depth of 5 or more, and on a depth of 4, it hit the 85%-85% marker. XGBoost seems to overfit the data at any depth. I then realized I had some leakage and removed a feature. With the removal of the feature I have a 73% acc on the XGCBoost and 71% on the bag model. I'll use the XGCBoost model for my visualizations  "
      ]
    },
    {
      "cell_type": "code",
      "metadata": {
        "id": "MTDTipEsVMaw",
        "outputId": "7026ee40-2780-498a-f768-692053d2d6b6",
        "colab": {
          "base_uri": "https://localhost:8080/",
          "height": 34
        }
      },
      "source": [
        "from sklearn.metrics import accuracy_score\n",
        "import seaborn as sns\n",
        "y_pred = model_boost.predict(X_val)\n",
        "print('Val ACC', accuracy_score(y_val, y_pred))\n"
      ],
      "execution_count": 176,
      "outputs": [
        {
          "output_type": "stream",
          "text": [
            "Val ACC 1.0\n"
          ],
          "name": "stdout"
        }
      ]
    },
    {
      "cell_type": "code",
      "metadata": {
        "id": "8Fivjx2GZ8dz",
        "outputId": "68692fba-6d68-4b73-edf7-5f7e9356b42c",
        "colab": {
          "base_uri": "https://localhost:8080/",
          "height": 314
        }
      },
      "source": [
        "from sklearn.metrics import plot_confusion_matrix\n",
        "plot_confusion_matrix(model_boost, X_val, y_val, values_format='.0f', xticks_rotation='vertical');\n"
      ],
      "execution_count": 177,
      "outputs": [
        {
          "output_type": "display_data",
          "data": {
            "image/png": "[encoded data removed]",
            "text/plain": [
              "<Figure size 432x288 with 2 Axes>"
            ]
          },
          "metadata": {
            "tags": [],
            "needs_background": "light"
          }
        }
      ]
    },
    {
      "cell_type": "code",
      "metadata": {
        "id": "3CPav-2Vj-Px",
        "outputId": "75315a68-4d2c-4ddd-a722-0b451296c26e",
        "colab": {
          "base_uri": "https://localhost:8080/",
          "height": 235
        }
      },
      "source": [
        "info.head()\n"
      ],
      "execution_count": 178,
      "outputs": [
        {
          "output_type": "execute_result",
          "data": {
            "text/html": [
              "<div>\n",
              "<style scoped>\n",
              "    .dataframe tbody tr th:only-of-type {\n",
              "        vertical-align: middle;\n",
              "    }\n",
              "\n",
              "    .dataframe tbody tr th {\n",
              "        vertical-align: top;\n",
              "    }\n",
              "\n",
              "    .dataframe thead th {\n",
              "        text-align: right;\n",
              "    }\n",
              "</style>\n",
              "<table border=\"1\" class=\"dataframe\">\n",
              "  <thead>\n",
              "    <tr style=\"text-align: right;\">\n",
              "      <th></th>\n",
              "      <th>White Wins</th>\n",
              "      <th>Black Wins</th>\n",
              "      <th>Draw</th>\n",
              "      <th>TGP</th>\n",
              "    </tr>\n",
              "    <tr>\n",
              "      <th>opening_eco</th>\n",
              "      <th></th>\n",
              "      <th></th>\n",
              "      <th></th>\n",
              "      <th></th>\n",
              "    </tr>\n",
              "  </thead>\n",
              "  <tbody>\n",
              "    <tr>\n",
              "      <th>A00</th>\n",
              "      <td>398</td>\n",
              "      <td>570</td>\n",
              "      <td>39</td>\n",
              "      <td>1007</td>\n",
              "    </tr>\n",
              "    <tr>\n",
              "      <th>C00</th>\n",
              "      <td>417</td>\n",
              "      <td>389</td>\n",
              "      <td>38</td>\n",
              "      <td>844</td>\n",
              "    </tr>\n",
              "    <tr>\n",
              "      <th>D00</th>\n",
              "      <td>341</td>\n",
              "      <td>360</td>\n",
              "      <td>38</td>\n",
              "      <td>739</td>\n",
              "    </tr>\n",
              "    <tr>\n",
              "      <th>B01</th>\n",
              "      <td>358</td>\n",
              "      <td>332</td>\n",
              "      <td>26</td>\n",
              "      <td>716</td>\n",
              "    </tr>\n",
              "    <tr>\n",
              "      <th>C41</th>\n",
              "      <td>396</td>\n",
              "      <td>267</td>\n",
              "      <td>28</td>\n",
              "      <td>691</td>\n",
              "    </tr>\n",
              "  </tbody>\n",
              "</table>\n",
              "</div>"
            ],
            "text/plain": [
              "             White Wins  Black Wins  Draw   TGP\n",
              "opening_eco                                    \n",
              "A00                 398         570    39  1007\n",
              "C00                 417         389    38   844\n",
              "D00                 341         360    38   739\n",
              "B01                 358         332    26   716\n",
              "C41                 396         267    28   691"
            ]
          },
          "metadata": {
            "tags": []
          },
          "execution_count": 178
        }
      ]
    },
    {
      "cell_type": "code",
      "metadata": {
        "id": "6M251-qumqTC",
        "outputId": "a5acad9a-f9cc-4d87-caa4-d58a19724884",
        "colab": {
          "base_uri": "https://localhost:8080/",
          "height": 204
        }
      },
      "source": [
        "ranking.head()"
      ],
      "execution_count": 179,
      "outputs": [
        {
          "output_type": "execute_result",
          "data": {
            "text/html": [
              "<div>\n",
              "<style scoped>\n",
              "    .dataframe tbody tr th:only-of-type {\n",
              "        vertical-align: middle;\n",
              "    }\n",
              "\n",
              "    .dataframe tbody tr th {\n",
              "        vertical-align: top;\n",
              "    }\n",
              "\n",
              "    .dataframe thead th {\n",
              "        text-align: right;\n",
              "    }\n",
              "</style>\n",
              "<table border=\"1\" class=\"dataframe\">\n",
              "  <thead>\n",
              "    <tr style=\"text-align: right;\">\n",
              "      <th></th>\n",
              "      <th>turns</th>\n",
              "      <th>winner</th>\n",
              "      <th>increment_code</th>\n",
              "      <th>white_rating</th>\n",
              "      <th>black_rating</th>\n",
              "      <th>opening_eco</th>\n",
              "      <th>White Wins</th>\n",
              "      <th>Black Wins</th>\n",
              "      <th>Draw</th>\n",
              "      <th>ranking</th>\n",
              "      <th>Disparity</th>\n",
              "    </tr>\n",
              "  </thead>\n",
              "  <tbody>\n",
              "    <tr>\n",
              "      <th>0</th>\n",
              "      <td>13</td>\n",
              "      <td>white</td>\n",
              "      <td>15+2</td>\n",
              "      <td>1500</td>\n",
              "      <td>1191</td>\n",
              "      <td>D10</td>\n",
              "      <td>1</td>\n",
              "      <td>0</td>\n",
              "      <td>0</td>\n",
              "      <td>Gold</td>\n",
              "      <td>309</td>\n",
              "    </tr>\n",
              "    <tr>\n",
              "      <th>1</th>\n",
              "      <td>16</td>\n",
              "      <td>black</td>\n",
              "      <td>5+10</td>\n",
              "      <td>1322</td>\n",
              "      <td>1261</td>\n",
              "      <td>B00</td>\n",
              "      <td>0</td>\n",
              "      <td>1</td>\n",
              "      <td>0</td>\n",
              "      <td>Silver</td>\n",
              "      <td>61</td>\n",
              "    </tr>\n",
              "    <tr>\n",
              "      <th>2</th>\n",
              "      <td>61</td>\n",
              "      <td>white</td>\n",
              "      <td>5+10</td>\n",
              "      <td>1496</td>\n",
              "      <td>1500</td>\n",
              "      <td>C20</td>\n",
              "      <td>1</td>\n",
              "      <td>0</td>\n",
              "      <td>0</td>\n",
              "      <td>Gold</td>\n",
              "      <td>4</td>\n",
              "    </tr>\n",
              "    <tr>\n",
              "      <th>3</th>\n",
              "      <td>61</td>\n",
              "      <td>white</td>\n",
              "      <td>20+0</td>\n",
              "      <td>1439</td>\n",
              "      <td>1454</td>\n",
              "      <td>D02</td>\n",
              "      <td>1</td>\n",
              "      <td>0</td>\n",
              "      <td>0</td>\n",
              "      <td>Gold</td>\n",
              "      <td>15</td>\n",
              "    </tr>\n",
              "    <tr>\n",
              "      <th>4</th>\n",
              "      <td>95</td>\n",
              "      <td>white</td>\n",
              "      <td>30+3</td>\n",
              "      <td>1523</td>\n",
              "      <td>1469</td>\n",
              "      <td>C41</td>\n",
              "      <td>1</td>\n",
              "      <td>0</td>\n",
              "      <td>0</td>\n",
              "      <td>Gold</td>\n",
              "      <td>54</td>\n",
              "    </tr>\n",
              "  </tbody>\n",
              "</table>\n",
              "</div>"
            ],
            "text/plain": [
              "   turns winner increment_code  ...  Draw  ranking Disparity\n",
              "0     13  white           15+2  ...     0     Gold       309\n",
              "1     16  black           5+10  ...     0   Silver        61\n",
              "2     61  white           5+10  ...     0     Gold         4\n",
              "3     61  white           20+0  ...     0     Gold        15\n",
              "4     95  white           30+3  ...     0     Gold        54\n",
              "\n",
              "[5 rows x 11 columns]"
            ]
          },
          "metadata": {
            "tags": []
          },
          "execution_count": 179
        }
      ]
    },
    {
      "cell_type": "code",
      "metadata": {
        "id": "TSpwxAjdiihb",
        "outputId": "7b17ebe6-3a69-40b7-991c-653f5991b7b7",
        "colab": {
          "base_uri": "https://localhost:8080/",
          "height": 390
        }
      },
      "source": [
        "increment = df2.groupby(['increment_code']).sum()\n",
        "increment = increment.drop(columns=['white_rating', 'black_rating', 'turns'])\n",
        "increment['TGP'] = increment['White Wins'] + increment['Black Wins'] + increment['Draw']\n",
        "increment = increment.sort_values(by=['TGP'], ascending=False)\n",
        "increment = increment.copy()\n",
        "increment['White Wins'] = increment['White Wins'] / increment['TGP']\n",
        "increment['Black Wins'] = increment['Black Wins'] / increment['TGP']\n",
        "increment['Draw'] = increment['Draw'] / increment['TGP']\n",
        "\n",
        "increment.head(10)"
      ],
      "execution_count": 180,
      "outputs": [
        {
          "output_type": "execute_result",
          "data": {
            "text/html": [
              "<div>\n",
              "<style scoped>\n",
              "    .dataframe tbody tr th:only-of-type {\n",
              "        vertical-align: middle;\n",
              "    }\n",
              "\n",
              "    .dataframe tbody tr th {\n",
              "        vertical-align: top;\n",
              "    }\n",
              "\n",
              "    .dataframe thead th {\n",
              "        text-align: right;\n",
              "    }\n",
              "</style>\n",
              "<table border=\"1\" class=\"dataframe\">\n",
              "  <thead>\n",
              "    <tr style=\"text-align: right;\">\n",
              "      <th></th>\n",
              "      <th>White Wins</th>\n",
              "      <th>Black Wins</th>\n",
              "      <th>Draw</th>\n",
              "      <th>TGP</th>\n",
              "    </tr>\n",
              "    <tr>\n",
              "      <th>increment_code</th>\n",
              "      <th></th>\n",
              "      <th></th>\n",
              "      <th></th>\n",
              "      <th></th>\n",
              "    </tr>\n",
              "  </thead>\n",
              "  <tbody>\n",
              "    <tr>\n",
              "      <th>10+0</th>\n",
              "      <td>0.497863</td>\n",
              "      <td>0.461210</td>\n",
              "      <td>0.040927</td>\n",
              "      <td>7721</td>\n",
              "    </tr>\n",
              "    <tr>\n",
              "      <th>15+0</th>\n",
              "      <td>0.500381</td>\n",
              "      <td>0.459954</td>\n",
              "      <td>0.039664</td>\n",
              "      <td>1311</td>\n",
              "    </tr>\n",
              "    <tr>\n",
              "      <th>15+15</th>\n",
              "      <td>0.490588</td>\n",
              "      <td>0.463529</td>\n",
              "      <td>0.045882</td>\n",
              "      <td>850</td>\n",
              "    </tr>\n",
              "    <tr>\n",
              "      <th>5+5</th>\n",
              "      <td>0.513550</td>\n",
              "      <td>0.447154</td>\n",
              "      <td>0.039295</td>\n",
              "      <td>738</td>\n",
              "    </tr>\n",
              "    <tr>\n",
              "      <th>5+8</th>\n",
              "      <td>0.496413</td>\n",
              "      <td>0.469154</td>\n",
              "      <td>0.034433</td>\n",
              "      <td>697</td>\n",
              "    </tr>\n",
              "    <tr>\n",
              "      <th>8+0</th>\n",
              "      <td>0.500000</td>\n",
              "      <td>0.442177</td>\n",
              "      <td>0.057823</td>\n",
              "      <td>588</td>\n",
              "    </tr>\n",
              "    <tr>\n",
              "      <th>10+5</th>\n",
              "      <td>0.492228</td>\n",
              "      <td>0.471503</td>\n",
              "      <td>0.036269</td>\n",
              "      <td>579</td>\n",
              "    </tr>\n",
              "    <tr>\n",
              "      <th>15+10</th>\n",
              "      <td>0.509761</td>\n",
              "      <td>0.412148</td>\n",
              "      <td>0.078091</td>\n",
              "      <td>461</td>\n",
              "    </tr>\n",
              "    <tr>\n",
              "      <th>20+0</th>\n",
              "      <td>0.497768</td>\n",
              "      <td>0.459821</td>\n",
              "      <td>0.042411</td>\n",
              "      <td>448</td>\n",
              "    </tr>\n",
              "    <tr>\n",
              "      <th>30+0</th>\n",
              "      <td>0.493333</td>\n",
              "      <td>0.456000</td>\n",
              "      <td>0.050667</td>\n",
              "      <td>375</td>\n",
              "    </tr>\n",
              "  </tbody>\n",
              "</table>\n",
              "</div>"
            ],
            "text/plain": [
              "                White Wins  Black Wins      Draw   TGP\n",
              "increment_code                                        \n",
              "10+0              0.497863    0.461210  0.040927  7721\n",
              "15+0              0.500381    0.459954  0.039664  1311\n",
              "15+15             0.490588    0.463529  0.045882   850\n",
              "5+5               0.513550    0.447154  0.039295   738\n",
              "5+8               0.496413    0.469154  0.034433   697\n",
              "8+0               0.500000    0.442177  0.057823   588\n",
              "10+5              0.492228    0.471503  0.036269   579\n",
              "15+10             0.509761    0.412148  0.078091   461\n",
              "20+0              0.497768    0.459821  0.042411   448\n",
              "30+0              0.493333    0.456000  0.050667   375"
            ]
          },
          "metadata": {
            "tags": []
          },
          "execution_count": 180
        }
      ]
    },
    {
      "cell_type": "markdown",
      "metadata": {
        "id": "UutRFvSVz0sV"
      },
      "source": [
        "Based off of the data provided, 10 min games with 0 delay are far and away the most popular. 15+10 have the highest draw rate, and 5+5 is the highest win rate for White, presumably because the less time available, the more powerful the first move advantage is. Given more time I would try to dissect that a little more, and see if thre is a specific opening that leads to that disparity. "
      ]
    }
  ]
}